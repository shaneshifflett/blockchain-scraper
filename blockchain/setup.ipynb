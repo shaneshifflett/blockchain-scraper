{
 "cells": [
  {
   "cell_type": "markdown",
   "metadata": {},
   "source": [
    "# Getting Started\n",
    "\n",
    "This is a short example showing how to download blockchain records for the known Quadriga cold wallets and cross reference them with ShapeShift.\n",
    "\n",
    "You'll need an etherscan api key\n",
    "\n",
    "https://etherscan.io/apis\n",
    "\n",
    "A mongo DB instance and set variables in SETTINGS\n",
    "\n",
    "Run the pip from the blockchain-scraper directory\n",
    "\n",
    "```pip install -r requirements.txt``` \n",
    "\n",
    "Data collected here was in part used for [this artcle](https://www.wsj.com/articles/our-cash-went-to-something-customers-hunt-for-bankrupt-crypto-exchanges-missing-millions-11550596908)\n",
    "\n",
    "\n",
    "### TODO\n",
    "\n",
    "Still a few cleanup items I wasn't able to address before committing this which I will address based on interest\n",
    "\n",
    "merge rawaddr_illicit_spider and blockchaininfo spider\n",
    "* they are the same but one tags with a search addr which should be an optional parameter\n",
    "\n",
    "add indices for the block crawler, wallet_explorer\n",
    "\n",
    "write some documentation to set up"
   ]
  },
  {
   "cell_type": "code",
   "execution_count": 1,
   "metadata": {},
   "outputs": [
    {
     "name": "stderr",
     "output_type": "stream",
     "text": [
      "/anaconda3/lib/python3.6/site-packages/ipykernel_launcher.py:4: ScrapyDeprecationWarning: Module `scrapy.conf` is deprecated, use `crawler.settings` attribute instead\n",
      "  after removing the cwd from sys.path.\n"
     ]
    }
   ],
   "source": [
    "import pymongo\n",
    "from pymongo import MongoClient\n",
    "from bson.objectid import ObjectId\n",
    "from scrapy.conf import settings\n",
    "\n",
    "import pandas as pd\n",
    "import requests\n",
    "from bs4 import BeautifulSoup\n",
    "from datetime import datetime\n",
    "\n",
    "connection = MongoClient(\n",
    "    settings['MONGODB_SERVER'],\n",
    "    settings['MONGODB_PORT']\n",
    ")\n",
    "ss_db = connection[settings['SHAPESHIFT_DB']]\n",
    "eth_db = connection[settings['ETH_DB']]\n",
    "btc_db = connection[settings['BTC_DB']]\n",
    "api_token = settings['ETHERSCAN_KEY']"
   ]
  },
  {
   "cell_type": "markdown",
   "metadata": {},
   "source": [
    "### Create a ETH/USD lookup"
   ]
  },
  {
   "cell_type": "code",
   "execution_count": 66,
   "metadata": {},
   "outputs": [
    {
     "data": {
      "text/html": [
       "<div>\n",
       "<style scoped>\n",
       "    .dataframe tbody tr th:only-of-type {\n",
       "        vertical-align: middle;\n",
       "    }\n",
       "\n",
       "    .dataframe tbody tr th {\n",
       "        vertical-align: top;\n",
       "    }\n",
       "\n",
       "    .dataframe thead th {\n",
       "        text-align: right;\n",
       "    }\n",
       "</style>\n",
       "<table border=\"1\" class=\"dataframe\">\n",
       "  <thead>\n",
       "    <tr style=\"text-align: right;\">\n",
       "      <th></th>\n",
       "      <th>Date(UTC)</th>\n",
       "      <th>UnixTimeStamp</th>\n",
       "      <th>Value</th>\n",
       "      <th>dt</th>\n",
       "      <th>dt_str</th>\n",
       "    </tr>\n",
       "  </thead>\n",
       "  <tbody>\n",
       "    <tr>\n",
       "      <th>0</th>\n",
       "      <td>7/30/2015</td>\n",
       "      <td>1438214400</td>\n",
       "      <td>0.0</td>\n",
       "      <td>2015-07-30</td>\n",
       "      <td>073015</td>\n",
       "    </tr>\n",
       "    <tr>\n",
       "      <th>1</th>\n",
       "      <td>7/31/2015</td>\n",
       "      <td>1438300800</td>\n",
       "      <td>0.0</td>\n",
       "      <td>2015-07-31</td>\n",
       "      <td>073115</td>\n",
       "    </tr>\n",
       "    <tr>\n",
       "      <th>2</th>\n",
       "      <td>8/1/2015</td>\n",
       "      <td>1438387200</td>\n",
       "      <td>0.0</td>\n",
       "      <td>2015-08-01</td>\n",
       "      <td>080115</td>\n",
       "    </tr>\n",
       "    <tr>\n",
       "      <th>3</th>\n",
       "      <td>8/2/2015</td>\n",
       "      <td>1438473600</td>\n",
       "      <td>0.0</td>\n",
       "      <td>2015-08-02</td>\n",
       "      <td>080215</td>\n",
       "    </tr>\n",
       "    <tr>\n",
       "      <th>4</th>\n",
       "      <td>8/3/2015</td>\n",
       "      <td>1438560000</td>\n",
       "      <td>0.0</td>\n",
       "      <td>2015-08-03</td>\n",
       "      <td>080315</td>\n",
       "    </tr>\n",
       "  </tbody>\n",
       "</table>\n",
       "</div>"
      ],
      "text/plain": [
       "   Date(UTC)  UnixTimeStamp  Value         dt  dt_str\n",
       "0  7/30/2015     1438214400    0.0 2015-07-30  073015\n",
       "1  7/31/2015     1438300800    0.0 2015-07-31  073115\n",
       "2   8/1/2015     1438387200    0.0 2015-08-01  080115\n",
       "3   8/2/2015     1438473600    0.0 2015-08-02  080215\n",
       "4   8/3/2015     1438560000    0.0 2015-08-03  080315"
      ]
     },
     "execution_count": 66,
     "metadata": {},
     "output_type": "execute_result"
    }
   ],
   "source": [
    "with open('data/eth-prices.csv', 'wb') as infile:\n",
    "    infile.write(requests.get('https://etherscan.io/chart/etherprice?output=csv').content)\n",
    "\n",
    "eth_conversions = pd.read_csv('data/eth-prices.csv')\n",
    "eth_conversions['dt'] = eth_conversions['UnixTimeStamp'].apply(lambda x: datetime.fromtimestamp(x))\n",
    "eth_conversions['dt_str'] = eth_conversions['dt'].apply(lambda x: x.strftime('%m%d%y'))\n",
    "\n",
    "eth_conversions_lookup = {}\n",
    "for row in eth_conversions.iterrows():\n",
    "    obj = row[1]\n",
    "    eth_conversions_lookup[obj['dt_str']] = obj['Value']\n",
    "\n",
    "eth_conversions.head()"
   ]
  },
  {
   "cell_type": "markdown",
   "metadata": {},
   "source": [
    "### Get some initial labels for addresses"
   ]
  },
  {
   "cell_type": "code",
   "execution_count": 3,
   "metadata": {},
   "outputs": [
    {
     "name": "stdout",
     "output_type": "stream",
     "text": [
      "8\n"
     ]
    },
    {
     "data": {
      "text/html": [
       "<div>\n",
       "<style scoped>\n",
       "    .dataframe tbody tr th:only-of-type {\n",
       "        vertical-align: middle;\n",
       "    }\n",
       "\n",
       "    .dataframe tbody tr th {\n",
       "        vertical-align: top;\n",
       "    }\n",
       "\n",
       "    .dataframe thead th {\n",
       "        text-align: right;\n",
       "    }\n",
       "</style>\n",
       "<table border=\"1\" class=\"dataframe\">\n",
       "  <thead>\n",
       "    <tr style=\"text-align: right;\">\n",
       "      <th></th>\n",
       "      <th>addr</th>\n",
       "      <th>name</th>\n",
       "    </tr>\n",
       "  </thead>\n",
       "  <tbody>\n",
       "    <tr>\n",
       "      <th>0</th>\n",
       "      <td>0x70faa28a6b8d6829a4b1e649d26ec9a2a39ba413</td>\n",
       "      <td>shapeshift</td>\n",
       "    </tr>\n",
       "    <tr>\n",
       "      <th>1</th>\n",
       "      <td>0x120a270bbc009644e35f0bb6ab13f95b8199c4ad</td>\n",
       "      <td>shapeshift</td>\n",
       "    </tr>\n",
       "    <tr>\n",
       "      <th>2</th>\n",
       "      <td>0x9e6316f44baeeee5d41a1070516cc5fa47baf227</td>\n",
       "      <td>shapeshift</td>\n",
       "    </tr>\n",
       "    <tr>\n",
       "      <th>3</th>\n",
       "      <td>0x3b0bc51ab9de1e5b7b6e34e5b960285805c41736</td>\n",
       "      <td>shapeshift</td>\n",
       "    </tr>\n",
       "    <tr>\n",
       "      <th>4</th>\n",
       "      <td>0x563b377a956c80d77a7c613a9343699ad6123911</td>\n",
       "      <td>shapeshift</td>\n",
       "    </tr>\n",
       "    <tr>\n",
       "      <th>5</th>\n",
       "      <td>0xd3273eba07248020bf98a8b560ec1576a612102f</td>\n",
       "      <td>shapeshift</td>\n",
       "    </tr>\n",
       "    <tr>\n",
       "      <th>6</th>\n",
       "      <td>0xeed16856d551569d134530ee3967ec79995e2051</td>\n",
       "      <td>shapeshift</td>\n",
       "    </tr>\n",
       "    <tr>\n",
       "      <th>7</th>\n",
       "      <td>0x1c39ba39e4735cb65978d4db400ddd70a72dc750</td>\n",
       "      <td>shapeshift contract</td>\n",
       "    </tr>\n",
       "    <tr>\n",
       "      <th>8</th>\n",
       "      <td>0xc3cae4118fec40ef386e01eb04b7e66dc0e5b643</td>\n",
       "      <td>quadriga cold wallet</td>\n",
       "    </tr>\n",
       "    <tr>\n",
       "      <th>9</th>\n",
       "      <td>0x7ea5e875a386b66d11a0ad1866ca7b5f2745f049</td>\n",
       "      <td>quadriga cold wallet</td>\n",
       "    </tr>\n",
       "  </tbody>\n",
       "</table>\n",
       "</div>"
      ],
      "text/plain": [
       "                                         addr                  name\n",
       "0  0x70faa28a6b8d6829a4b1e649d26ec9a2a39ba413            shapeshift\n",
       "1  0x120a270bbc009644e35f0bb6ab13f95b8199c4ad            shapeshift\n",
       "2  0x9e6316f44baeeee5d41a1070516cc5fa47baf227            shapeshift\n",
       "3  0x3b0bc51ab9de1e5b7b6e34e5b960285805c41736            shapeshift\n",
       "4  0x563b377a956c80d77a7c613a9343699ad6123911            shapeshift\n",
       "5  0xd3273eba07248020bf98a8b560ec1576a612102f            shapeshift\n",
       "6  0xeed16856d551569d134530ee3967ec79995e2051            shapeshift\n",
       "7  0x1c39ba39e4735cb65978d4db400ddd70a72dc750   shapeshift contract\n",
       "8  0xc3cae4118fec40ef386e01eb04b7e66dc0e5b643  quadriga cold wallet\n",
       "9  0x7ea5e875a386b66d11a0ad1866ca7b5f2745f049  quadriga cold wallet"
      ]
     },
     "execution_count": 3,
     "metadata": {},
     "output_type": "execute_result"
    }
   ],
   "source": [
    "exchange_addrs = pd.read_csv('https://docs.google.com/spreadsheets/d/e/2PACX-1vQL2mYYqRA2-UnDr22xWrwsENjV6n5DtMXS9sEceUKN6dF-IzAtJsve8TPXPlXgioQ5MMac3RbmuL8m/pub?gid=0&single=true&output=csv')\n",
    "exchange_addrs['addr'] = exchange_addrs['addr'].apply(lambda x: x.lower())\n",
    "\n",
    "exchange_lookup = {}\n",
    "for cx in exchange_addrs.iterrows():\n",
    "    obj = cx[1]\n",
    "    if obj['name'] in exchange_lookup.keys():\n",
    "        exchange_lookup[obj['name']].append(obj['addr'])\n",
    "    else:\n",
    "        exchange_lookup[obj['name']] = [obj['addr']]\n",
    "\n",
    "        \n",
    "ss_addrs = list(set(exchange_addrs[exchange_addrs.name.str.contains('shapeshift')].addr))\n",
    "print(len(ss_addrs))\n",
    "exchange_addrs.head(10)"
   ]
  },
  {
   "cell_type": "markdown",
   "metadata": {},
   "source": [
    "### Create indices\n",
    "\n",
    "Set up indexes that will prevent duplicate entries and make lookups fast. Probably should only be run once."
   ]
  },
  {
   "cell_type": "code",
   "execution_count": 4,
   "metadata": {},
   "outputs": [
    {
     "name": "stdout",
     "output_type": "stream",
     "text": [
      "2885\n",
      "0\n",
      "0\n",
      "12540\n",
      "2664\n",
      "12540\n",
      "2664\n"
     ]
    },
    {
     "name": "stderr",
     "output_type": "stream",
     "text": [
      "/anaconda3/lib/python3.6/site-packages/ipykernel_launcher.py:53: DeprecationWarning: count is deprecated. Use Collection.count_documents instead.\n"
     ]
    }
   ],
   "source": [
    "create_indices = False\n",
    "print(eth_db.etherscan_url.count_documents({}))\n",
    "if create_indices:\n",
    "    eth_db.etherscan_url.delete_many({})\n",
    "    eth_db.etherscan_url.drop_indexes()\n",
    "    eth_db.etherscan_url.create_index([('url', pymongo.DESCENDING)], unique=True)\n",
    "    eth_db.etherscan_url.create_index([('retrieved', pymongo.DESCENDING)], unique=False)\n",
    "    eth_db.etherscan_url.create_index([('last_scraped', pymongo.DESCENDING)], unique=False)\n",
    "    \n",
    "    eth_db.etherscan_tx.drop_indexes()\n",
    "    eth_db.etherscan_tx.create_index([('hash', pymongo.DESCENDING)], unique=True)\n",
    "    eth_db.etherscan_tx.create_index([('to', pymongo.DESCENDING)], unique=False)\n",
    "    eth_db.etherscan_tx.create_index([('from', pymongo.DESCENDING)], unique=False)\n",
    "    eth_db.etherscan_tx.create_index([('eth', pymongo.DESCENDING)], unique=False)\n",
    "    eth_db.etherscan_tx.create_index([('dt', pymongo.DESCENDING)], unique=False)\n",
    "    \n",
    "print(btc_db.blockchaininfo_url.count_documents({}))\n",
    "if create_indices:\n",
    "    btc_db.blockchaininfo_url.delete_many({})\n",
    "    btc_db.blockchaininfo_url.drop_indexes()\n",
    "    btc_db.blockchaininfo_url.create_index([('url', pymongo.DESCENDING)], unique=True)\n",
    "    btc_db.blockchaininfo_url.create_index([('retrieved', pymongo.DESCENDING)], unique=False)\n",
    "    btc_db.blockchaininfo_url.create_index([('last_scraped', pymongo.DESCENDING)], unique=False)\n",
    "    \n",
    "    btc_db.blockchaininfo_tx.drop_indexes()\n",
    "    btc_db.blockchaininfo_tx.create_index([\n",
    "        ('hash', pymongo.DESCENDING),\n",
    "    ],  unique=True)\n",
    "    btc_db.blockchaininfo_tx.create_index([\n",
    "        ('dt', pymongo.DESCENDING)\n",
    "    ])\n",
    "    \n",
    "    btc_db.blockchaininfo_wallet_tx.drop_indexes()\n",
    "    btc_db.blockchaininfo_wallet_tx.create_index([\n",
    "        ('hash', pymongo.DESCENDING),\n",
    "        ('addr', pymongo.DESCENDING),\n",
    "        ('dir', pymongo.DESCENDING)\n",
    "    ],  unique=True)\n",
    "    btc_db.blockchaininfo_wallet_tx.create_index([\n",
    "        ('addr', pymongo.DESCENDING)\n",
    "    ])\n",
    "    btc_db.blockchaininfo_wallet_tx.create_index([\n",
    "        ('dt', pymongo.DESCENDING)\n",
    "    ])\n",
    "    btc_db.blockchaininfo_wallet_tx.create_index([\n",
    "        ('btc', pymongo.DESCENDING)\n",
    "    ])\n",
    "    btc_db.blockchaininfo_wallet_tx.create_index([\n",
    "        ('dir', pymongo.DESCENDING)\n",
    "    ])\n",
    "    \n",
    "    btc_db.wallet_summary.create_index([\n",
    "        ('address', pymongo.DESCENDING)\n",
    "    ],  unique=True)\n",
    "\n",
    "    \n",
    "print(btc_db.blockchaininfo_url.find({}).count())\n",
    "\n",
    "\n",
    "if create_indices:\n",
    "    btc_db.wallet_explorer_addr.drop_indexes()\n",
    "    btc_db.wallet_explorer_addr.create_index([\n",
    "        ('wallet_address', pymongo.DESCENDING),\n",
    "        ('exchange_name', pymongo.DESCENDING),\n",
    "    ], unique=True)\n",
    "        \n",
    "    btc_db.wallet_explorer_exchange.drop_indexes()\n",
    "    btc_db.wallet_explorer_exchange.create_index([\n",
    "        ('tx_url', pymongo.DESCENDING),\n",
    "        ('wallet_url', pymongo.DESCENDING),\n",
    "        ('exchange_name', pymongo.DESCENDING),\n",
    "    ], unique=True)\n",
    "\n",
    "print(ss_db.ss_url.count_documents({}))\n",
    "print(ss_db.ss_resp.count_documents({}))\n",
    "\n",
    "if create_indices:\n",
    "    #ss_db.ss_url.delete_many({})\n",
    "    ss_db.ss_url.drop_indexes()\n",
    "    ss_db.ss_url.create_index([('url', pymongo.DESCENDING)], unique=True)\n",
    "    ss_db.ss_url.create_index([('retrieved', pymongo.DESCENDING)], unique=False)\n",
    "    ss_db.ss_url.create_index([('last_scraped', pymongo.DESCENDING)], unique=False)\n",
    "    ss_db.ss_url.create_index([('addr', pymongo.DESCENDING)], unique=False)\n",
    "    ss_db.ss_url.create_index([('currency', pymongo.DESCENDING)], unique=False)\n",
    "    \n",
    "    ss_db.ss_resp.drop_indexes()\n",
    "    ss_db.ss_resp.create_index([\n",
    "        ('url', pymongo.DESCENDING),\n",
    "        ('retrieved', pymongo.DESCENDING),\n",
    "    ], unique=True)\n",
    "    ss_db.ss_resp.create_index([('addr', pymongo.DESCENDING)], unique=False)\n",
    "    ss_db.ss_resp.create_index([('currency', pymongo.DESCENDING)], unique=False)\n",
    "    ss_db.ss_resp.create_index([('withdraw', pymongo.DESCENDING)], unique=False)\n",
    "    ss_db.ss_resp.create_index([('outgoingType', pymongo.DESCENDING)], unique=False)\n",
    "\n",
    "    \n",
    "    \n",
    "print(ss_db.ss_url.count_documents({}))\n",
    "print(ss_db.ss_resp.count_documents({}))\n"
   ]
  },
  {
   "cell_type": "markdown",
   "metadata": {},
   "source": [
    "### Set up URLs to scrape\n",
    "\n",
    "We need to collect transactions associated with Quadriga's known Ethereum wallets\n",
    "\n",
    "Using this information, create a list of URLs to request from etherscan"
   ]
  },
  {
   "cell_type": "code",
   "execution_count": 8,
   "metadata": {},
   "outputs": [
    {
     "name": "stdout",
     "output_type": "stream",
     "text": [
      "4\n",
      "2\n"
     ]
    },
    {
     "data": {
      "text/html": [
       "<div>\n",
       "<style scoped>\n",
       "    .dataframe tbody tr th:only-of-type {\n",
       "        vertical-align: middle;\n",
       "    }\n",
       "\n",
       "    .dataframe tbody tr th {\n",
       "        vertical-align: top;\n",
       "    }\n",
       "\n",
       "    .dataframe thead th {\n",
       "        text-align: right;\n",
       "    }\n",
       "</style>\n",
       "<table border=\"1\" class=\"dataframe\">\n",
       "  <thead>\n",
       "    <tr style=\"text-align: right;\">\n",
       "      <th></th>\n",
       "      <th>addr</th>\n",
       "      <th>name</th>\n",
       "    </tr>\n",
       "  </thead>\n",
       "  <tbody>\n",
       "    <tr>\n",
       "      <th>8</th>\n",
       "      <td>0xc3cae4118fec40ef386e01eb04b7e66dc0e5b643</td>\n",
       "      <td>quadriga cold wallet</td>\n",
       "    </tr>\n",
       "    <tr>\n",
       "      <th>9</th>\n",
       "      <td>0x7ea5e875a386b66d11a0ad1866ca7b5f2745f049</td>\n",
       "      <td>quadriga cold wallet</td>\n",
       "    </tr>\n",
       "    <tr>\n",
       "      <th>10</th>\n",
       "      <td>0x0b9defea64d1808bcdec76d532984dd24fb8bcff</td>\n",
       "      <td>quadriga cold wallet</td>\n",
       "    </tr>\n",
       "    <tr>\n",
       "      <th>11</th>\n",
       "      <td>0x0ee4e2d09aec35bdf08083b649033ac0a41aa75e</td>\n",
       "      <td>quadriga cold wallet</td>\n",
       "    </tr>\n",
       "    <tr>\n",
       "      <th>12</th>\n",
       "      <td>0x027beefcbad782faf69fad12dee97ed894c68549</td>\n",
       "      <td>quadriga hot wallet</td>\n",
       "    </tr>\n",
       "    <tr>\n",
       "      <th>13</th>\n",
       "      <td>0xb6aac3b56ff818496b747ea57fcbe42a9aae6218</td>\n",
       "      <td>quadriga hot wallet</td>\n",
       "    </tr>\n",
       "  </tbody>\n",
       "</table>\n",
       "</div>"
      ],
      "text/plain": [
       "                                          addr                  name\n",
       "8   0xc3cae4118fec40ef386e01eb04b7e66dc0e5b643  quadriga cold wallet\n",
       "9   0x7ea5e875a386b66d11a0ad1866ca7b5f2745f049  quadriga cold wallet\n",
       "10  0x0b9defea64d1808bcdec76d532984dd24fb8bcff  quadriga cold wallet\n",
       "11  0x0ee4e2d09aec35bdf08083b649033ac0a41aa75e  quadriga cold wallet\n",
       "12  0x027beefcbad782faf69fad12dee97ed894c68549   quadriga hot wallet\n",
       "13  0xb6aac3b56ff818496b747ea57fcbe42a9aae6218   quadriga hot wallet"
      ]
     },
     "execution_count": 8,
     "metadata": {},
     "output_type": "execute_result"
    }
   ],
   "source": [
    "quadriga_addrs = exchange_addrs[exchange_addrs.name.str.contains('quadriga')]\n",
    "quadriga_cold_addrs = list(quadriga_addrs[quadriga_addrs.name.str.contains('cold wallet')].addr)\n",
    "quadriga_hot_addrs = list(quadriga_addrs[quadriga_addrs.name.str.contains('hot wallet')].addr)\n",
    "\n",
    "print(len(quadriga_cold_addrs))\n",
    "print(len(quadriga_hot_addrs))\n",
    "\n",
    "quadriga_addrs"
   ]
  },
  {
   "cell_type": "code",
   "execution_count": 10,
   "metadata": {
    "collapsed": true
   },
   "outputs": [],
   "source": [
    "#create another version o\n",
    "def add_lookup(addrs, tag, page=0, offset=0):\n",
    "    url = 'http://api.etherscan.io/api?module=account&action=txlist&address=%s&startblock=0&endblock=99999999&sort=asc&apikey=%s&page=%s&offset=%s'\n",
    "    for addr in addrs:\n",
    "        tmp_url = url % (addr, api_token, page, offset)\n",
    "        obj = {\n",
    "            'url': tmp_url,\n",
    "            'retrieved': False,\n",
    "            'last_scraped': None,\n",
    "            'has_result': False,\n",
    "            'tag': tag,\n",
    "            'account_addr': addr\n",
    "        }\n",
    "        try:\n",
    "            eth_db.etherscan_url.insert_many([obj])\n",
    "        except:\n",
    "            pass\n",
    "    "
   ]
  },
  {
   "cell_type": "code",
   "execution_count": 25,
   "metadata": {},
   "outputs": [
    {
     "name": "stdout",
     "output_type": "stream",
     "text": [
      "total 4\n",
      "retrieved 0\n",
      "missing 4\n"
     ]
    },
    {
     "data": {
      "text/plain": [
       "{'_id': ObjectId('5c7d4c005a13494cb79d5a19'),\n",
       " 'url': 'http://api.etherscan.io/api?module=account&action=txlist&address=0xc3cae4118fec40ef386e01eb04b7e66dc0e5b643&startblock=0&endblock=99999999&sort=asc&apikey=WSY7HG9SNHSVYW4ZFGIIM4VBQB7ZH2235M&page=0&offset=0',\n",
       " 'retrieved': False,\n",
       " 'last_scraped': None,\n",
       " 'has_result': False,\n",
       " 'tag': 'quadriga_cold_wallet',\n",
       " 'account_addr': '0xc3cae4118fec40ef386e01eb04b7e66dc0e5b643'}"
      ]
     },
     "execution_count": 25,
     "metadata": {},
     "output_type": "execute_result"
    }
   ],
   "source": [
    "add_lookup(quadriga_cold_addrs, 'quadriga_cold_wallet')\n",
    "print('total', eth_db.etherscan_url.count_documents({}))\n",
    "print('retrieved', eth_db.etherscan_url.count_documents({'retrieved': True}))\n",
    "print('missing', eth_db.etherscan_url.count_documents({'retrieved': False}))\n",
    "eth_db.etherscan_url.find_one({})\n",
    "#we need to pay attention to this SS contract which handled a number of transactions\n",
    "#it is considered an intermediary... \n",
    "#add_lookup(['0x1c39ba39e4735cb65978d4db400ddd70a72dc750'], 'ss-contract')"
   ]
  },
  {
   "cell_type": "markdown",
   "metadata": {},
   "source": [
    "# Now run the scrapy etherscan crawler\n",
    "\n",
    "From the blockchain-scraper directory\n",
    "\n",
    "```scrapy crawl etherscan```"
   ]
  },
  {
   "cell_type": "code",
   "execution_count": 27,
   "metadata": {},
   "outputs": [
    {
     "name": "stdout",
     "output_type": "stream",
     "text": [
      "total 4\n",
      "retrieved 4\n",
      "missing 0\n"
     ]
    }
   ],
   "source": [
    "print('total', eth_db.etherscan_url.count_documents({}))\n",
    "print('retrieved', eth_db.etherscan_url.count_documents({'retrieved': True}))\n",
    "print('missing', eth_db.etherscan_url.count_documents({'retrieved': False}))"
   ]
  },
  {
   "cell_type": "code",
   "execution_count": 30,
   "metadata": {},
   "outputs": [
    {
     "data": {
      "text/plain": [
       "0"
      ]
     },
     "execution_count": 30,
     "metadata": {},
     "output_type": "execute_result"
    }
   ],
   "source": [
    "#How many TX's went ot ShapeShift Addresses?\n",
    "eth_db.etherscan_tx.count_documents({'to': {'$in': ss_addrs}})"
   ]
  },
  {
   "cell_type": "markdown",
   "metadata": {},
   "source": [
    "At this point there should be no transactions sending to a ShapeShift we have an address for because ShapeShift deposits go to a distinct wallet. These wallets are later \"swept\" into the wallet addresses we defined above.\n",
    "\n",
    "To find those addresses we need to download all transactions the cold wallets sent money to examine where the funds ended up"
   ]
  },
  {
   "cell_type": "code",
   "execution_count": 33,
   "metadata": {},
   "outputs": [
    {
     "name": "stdout",
     "output_type": "stream",
     "text": [
      "number of wallets to download 3220\n"
     ]
    }
   ],
   "source": [
    "to_search = eth_db.etherscan_tx.find({'from': {'$in': quadriga_cold_addrs}}).distinct('to')\n",
    "print('number of wallets to download', len(to_search))\n",
    "add_lookup(to_search, 'quadriga_cold_wallet_first_hop')"
   ]
  },
  {
   "cell_type": "markdown",
   "metadata": {},
   "source": [
    "From the blockchain-scraper directory\n",
    "\n",
    "```scrapy crawl etherscan```"
   ]
  },
  {
   "cell_type": "code",
   "execution_count": 34,
   "metadata": {},
   "outputs": [
    {
     "name": "stdout",
     "output_type": "stream",
     "text": [
      "total 3222\n",
      "retrieved 4\n",
      "missing 3218\n"
     ]
    }
   ],
   "source": [
    "print('total', eth_db.etherscan_url.count_documents({}))\n",
    "print('retrieved', eth_db.etherscan_url.count_documents({'retrieved': True}))\n",
    "print('missing', eth_db.etherscan_url.count_documents({'retrieved': False}))"
   ]
  },
  {
   "cell_type": "code",
   "execution_count": 38,
   "metadata": {},
   "outputs": [
    {
     "data": {
      "text/plain": [
       "119"
      ]
     },
     "execution_count": 38,
     "metadata": {},
     "output_type": "execute_result"
    }
   ],
   "source": [
    "#Now we ought to have collected all the intermediary addresses that sweep funds into the main ShapeShift wallets\n",
    "eth_db.etherscan_tx.count_documents({'to': {'$in': ss_addrs}})"
   ]
  },
  {
   "cell_type": "markdown",
   "metadata": {},
   "source": [
    "## Analyzing the Quadriga transactions involving ShapeShift"
   ]
  },
  {
   "cell_type": "code",
   "execution_count": 40,
   "metadata": {},
   "outputs": [
    {
     "name": "stdout",
     "output_type": "stream",
     "text": [
      "Intermediary transactions 137\n",
      "Intermediary addresses 137\n"
     ]
    },
    {
     "data": {
      "text/html": [
       "<div>\n",
       "<style scoped>\n",
       "    .dataframe tbody tr th:only-of-type {\n",
       "        vertical-align: middle;\n",
       "    }\n",
       "\n",
       "    .dataframe tbody tr th {\n",
       "        vertical-align: top;\n",
       "    }\n",
       "\n",
       "    .dataframe thead th {\n",
       "        text-align: right;\n",
       "    }\n",
       "</style>\n",
       "<table border=\"1\" class=\"dataframe\">\n",
       "  <thead>\n",
       "    <tr style=\"text-align: right;\">\n",
       "      <th></th>\n",
       "      <th>_id</th>\n",
       "      <th>account_addr</th>\n",
       "      <th>blockHash</th>\n",
       "      <th>blockNumber</th>\n",
       "      <th>confirmations</th>\n",
       "      <th>contractAddress</th>\n",
       "      <th>cumulativeGasUsed</th>\n",
       "      <th>dt</th>\n",
       "      <th>dt_str</th>\n",
       "      <th>eth</th>\n",
       "      <th>...</th>\n",
       "      <th>hash</th>\n",
       "      <th>input</th>\n",
       "      <th>isError</th>\n",
       "      <th>nonce</th>\n",
       "      <th>tag</th>\n",
       "      <th>timeStamp</th>\n",
       "      <th>to</th>\n",
       "      <th>transactionIndex</th>\n",
       "      <th>txreceipt_status</th>\n",
       "      <th>value</th>\n",
       "    </tr>\n",
       "  </thead>\n",
       "  <tbody>\n",
       "    <tr>\n",
       "      <th>0</th>\n",
       "      <td>5c7d50995a13494d9ed9e76d</td>\n",
       "      <td>0xad9b49336c088420832db3794dbb32923267a713</td>\n",
       "      <td>0xc2862cdea560e457cf4bd01d949954f433b6d073ce72...</td>\n",
       "      <td>1475583</td>\n",
       "      <td>5828396</td>\n",
       "      <td></td>\n",
       "      <td>42000</td>\n",
       "      <td>2016-05-07 20:24:05</td>\n",
       "      <td>050716</td>\n",
       "      <td>215.99958</td>\n",
       "      <td>...</td>\n",
       "      <td>0xa0ea5c060bb2a27a25be8d33812103613ac9797a1e37...</td>\n",
       "      <td>0x</td>\n",
       "      <td>0</td>\n",
       "      <td>0</td>\n",
       "      <td>quadriga_cold_wallet_first_hop</td>\n",
       "      <td>1462652645</td>\n",
       "      <td>0x9e6316f44baeeee5d41a1070516cc5fa47baf227</td>\n",
       "      <td>1</td>\n",
       "      <td></td>\n",
       "      <td>2.159996e+20</td>\n",
       "    </tr>\n",
       "    <tr>\n",
       "      <th>1</th>\n",
       "      <td>5c7d50965a13494d9ed9e76b</td>\n",
       "      <td>0xd56d5a492df96b0bed9e824cdf6aa159ff19aadd</td>\n",
       "      <td>0xc2862cdea560e457cf4bd01d949954f433b6d073ce72...</td>\n",
       "      <td>1475583</td>\n",
       "      <td>5828396</td>\n",
       "      <td></td>\n",
       "      <td>168000</td>\n",
       "      <td>2016-05-07 20:24:05</td>\n",
       "      <td>050716</td>\n",
       "      <td>212.99958</td>\n",
       "      <td>...</td>\n",
       "      <td>0x866e7e470031b43b2ad354d92157a8260e6e9b2765dc...</td>\n",
       "      <td>0x</td>\n",
       "      <td>0</td>\n",
       "      <td>0</td>\n",
       "      <td>quadriga_cold_wallet_first_hop</td>\n",
       "      <td>1462652645</td>\n",
       "      <td>0x9e6316f44baeeee5d41a1070516cc5fa47baf227</td>\n",
       "      <td>7</td>\n",
       "      <td></td>\n",
       "      <td>2.129996e+20</td>\n",
       "    </tr>\n",
       "    <tr>\n",
       "      <th>2</th>\n",
       "      <td>5c7d50925a13494d9ed9e769</td>\n",
       "      <td>0x75f3a12bbb62b0f7674330fb0d83150790396f18</td>\n",
       "      <td>0xc2862cdea560e457cf4bd01d949954f433b6d073ce72...</td>\n",
       "      <td>1475583</td>\n",
       "      <td>5828396</td>\n",
       "      <td></td>\n",
       "      <td>504000</td>\n",
       "      <td>2016-05-07 20:24:05</td>\n",
       "      <td>050716</td>\n",
       "      <td>99.99958</td>\n",
       "      <td>...</td>\n",
       "      <td>0xc6b0546458d1f8d556ebddd626834cead03e600b339b...</td>\n",
       "      <td>0x</td>\n",
       "      <td>0</td>\n",
       "      <td>0</td>\n",
       "      <td>quadriga_cold_wallet_first_hop</td>\n",
       "      <td>1462652645</td>\n",
       "      <td>0x9e6316f44baeeee5d41a1070516cc5fa47baf227</td>\n",
       "      <td>23</td>\n",
       "      <td></td>\n",
       "      <td>9.999958e+19</td>\n",
       "    </tr>\n",
       "    <tr>\n",
       "      <th>3</th>\n",
       "      <td>5c7d508d5a13494d9ed9e767</td>\n",
       "      <td>0x39733d7b62350eb6dd388d123e112fe2bacdc7dc</td>\n",
       "      <td>0xc2862cdea560e457cf4bd01d949954f433b6d073ce72...</td>\n",
       "      <td>1475583</td>\n",
       "      <td>5828396</td>\n",
       "      <td></td>\n",
       "      <td>21000</td>\n",
       "      <td>2016-05-07 20:24:05</td>\n",
       "      <td>050716</td>\n",
       "      <td>213.99958</td>\n",
       "      <td>...</td>\n",
       "      <td>0x4cdaeeec8c18ee06732e1523695c35a3e068063d201e...</td>\n",
       "      <td>0x</td>\n",
       "      <td>0</td>\n",
       "      <td>0</td>\n",
       "      <td>quadriga_cold_wallet_first_hop</td>\n",
       "      <td>1462652645</td>\n",
       "      <td>0x9e6316f44baeeee5d41a1070516cc5fa47baf227</td>\n",
       "      <td>0</td>\n",
       "      <td></td>\n",
       "      <td>2.139996e+20</td>\n",
       "    </tr>\n",
       "    <tr>\n",
       "      <th>4</th>\n",
       "      <td>5c7d508a5a13494d9ed9e765</td>\n",
       "      <td>0xe8b8b0515b25d71e43c4b5aeb4ceb37f0cfcf549</td>\n",
       "      <td>0xc75ac635a082a3df78a49b6e6c8535d69ae97e5a44f1...</td>\n",
       "      <td>1474950</td>\n",
       "      <td>5829029</td>\n",
       "      <td></td>\n",
       "      <td>172182</td>\n",
       "      <td>2016-05-07 17:44:17</td>\n",
       "      <td>050716</td>\n",
       "      <td>79.99958</td>\n",
       "      <td>...</td>\n",
       "      <td>0xf58999f43706319cbce7746cb23b98c3672e5d2cbdde...</td>\n",
       "      <td>0x</td>\n",
       "      <td>0</td>\n",
       "      <td>0</td>\n",
       "      <td>quadriga_cold_wallet_first_hop</td>\n",
       "      <td>1462643057</td>\n",
       "      <td>0x9e6316f44baeeee5d41a1070516cc5fa47baf227</td>\n",
       "      <td>5</td>\n",
       "      <td></td>\n",
       "      <td>7.999958e+19</td>\n",
       "    </tr>\n",
       "  </tbody>\n",
       "</table>\n",
       "<p>5 rows × 24 columns</p>\n",
       "</div>"
      ],
      "text/plain": [
       "                        _id                                account_addr  \\\n",
       "0  5c7d50995a13494d9ed9e76d  0xad9b49336c088420832db3794dbb32923267a713   \n",
       "1  5c7d50965a13494d9ed9e76b  0xd56d5a492df96b0bed9e824cdf6aa159ff19aadd   \n",
       "2  5c7d50925a13494d9ed9e769  0x75f3a12bbb62b0f7674330fb0d83150790396f18   \n",
       "3  5c7d508d5a13494d9ed9e767  0x39733d7b62350eb6dd388d123e112fe2bacdc7dc   \n",
       "4  5c7d508a5a13494d9ed9e765  0xe8b8b0515b25d71e43c4b5aeb4ceb37f0cfcf549   \n",
       "\n",
       "                                           blockHash blockNumber  \\\n",
       "0  0xc2862cdea560e457cf4bd01d949954f433b6d073ce72...     1475583   \n",
       "1  0xc2862cdea560e457cf4bd01d949954f433b6d073ce72...     1475583   \n",
       "2  0xc2862cdea560e457cf4bd01d949954f433b6d073ce72...     1475583   \n",
       "3  0xc2862cdea560e457cf4bd01d949954f433b6d073ce72...     1475583   \n",
       "4  0xc75ac635a082a3df78a49b6e6c8535d69ae97e5a44f1...     1474950   \n",
       "\n",
       "  confirmations contractAddress cumulativeGasUsed                  dt  dt_str  \\\n",
       "0       5828396                             42000 2016-05-07 20:24:05  050716   \n",
       "1       5828396                            168000 2016-05-07 20:24:05  050716   \n",
       "2       5828396                            504000 2016-05-07 20:24:05  050716   \n",
       "3       5828396                             21000 2016-05-07 20:24:05  050716   \n",
       "4       5829029                            172182 2016-05-07 17:44:17  050716   \n",
       "\n",
       "         eth      ...                                                    hash  \\\n",
       "0  215.99958      ...       0xa0ea5c060bb2a27a25be8d33812103613ac9797a1e37...   \n",
       "1  212.99958      ...       0x866e7e470031b43b2ad354d92157a8260e6e9b2765dc...   \n",
       "2   99.99958      ...       0xc6b0546458d1f8d556ebddd626834cead03e600b339b...   \n",
       "3  213.99958      ...       0x4cdaeeec8c18ee06732e1523695c35a3e068063d201e...   \n",
       "4   79.99958      ...       0xf58999f43706319cbce7746cb23b98c3672e5d2cbdde...   \n",
       "\n",
       "  input isError nonce                             tag   timeStamp  \\\n",
       "0    0x       0     0  quadriga_cold_wallet_first_hop  1462652645   \n",
       "1    0x       0     0  quadriga_cold_wallet_first_hop  1462652645   \n",
       "2    0x       0     0  quadriga_cold_wallet_first_hop  1462652645   \n",
       "3    0x       0     0  quadriga_cold_wallet_first_hop  1462652645   \n",
       "4    0x       0     0  quadriga_cold_wallet_first_hop  1462643057   \n",
       "\n",
       "                                           to transactionIndex  \\\n",
       "0  0x9e6316f44baeeee5d41a1070516cc5fa47baf227                1   \n",
       "1  0x9e6316f44baeeee5d41a1070516cc5fa47baf227                7   \n",
       "2  0x9e6316f44baeeee5d41a1070516cc5fa47baf227               23   \n",
       "3  0x9e6316f44baeeee5d41a1070516cc5fa47baf227                0   \n",
       "4  0x9e6316f44baeeee5d41a1070516cc5fa47baf227                5   \n",
       "\n",
       "  txreceipt_status         value  \n",
       "0                   2.159996e+20  \n",
       "1                   2.129996e+20  \n",
       "2                   9.999958e+19  \n",
       "3                   2.139996e+20  \n",
       "4                   7.999958e+19  \n",
       "\n",
       "[5 rows x 24 columns]"
      ]
     },
     "execution_count": 40,
     "metadata": {},
     "output_type": "execute_result"
    }
   ],
   "source": [
    "ss_intermediaries = pd.DataFrame.from_dict(list(eth_db.etherscan_tx.find({\n",
    "    'to': {'$in': ss_addrs}\n",
    "})))\n",
    "print('Intermediary transactions', len(ss_intermediaries))\n",
    "ss_intermediary_addrs = list(set(ss_intermediaries['from']))\n",
    "print('Intermediary addresses', len(ss_intermediary_addrs))\n",
    "ss_intermediaries.head()"
   ]
  },
  {
   "cell_type": "markdown",
   "metadata": {},
   "source": [
    "#### and query the ShapeShift API to collect confirmations\n",
    "\n",
    "ShapeShift should confirm that funds were receieved from these wallets and document the destination wallets"
   ]
  },
  {
   "cell_type": "code",
   "execution_count": 42,
   "metadata": {},
   "outputs": [
    {
     "name": "stdout",
     "output_type": "stream",
     "text": [
      "9876\n",
      "9876\n"
     ]
    }
   ],
   "source": [
    "print(ss_db.ss_url.count_documents({'retrieved': False}))\n",
    "for addr in list(set(ss_intermediaries['from'])):\n",
    "    obj = {\n",
    "        'addr': addr,\n",
    "        'currency': 'eth',\n",
    "        'url': 'https://shapeshift.io/txStat/%s' % addr,\n",
    "        'retrieved': False,\n",
    "        'last_scraped': None,\n",
    "        'has_result': False\n",
    "    }\n",
    "    try:\n",
    "        ss_db.ss_url.insert_many([obj])\n",
    "    except:\n",
    "        pass\n",
    "print(ss_db.ss_url.count_documents({'retrieved': False}))"
   ]
  },
  {
   "cell_type": "markdown",
   "metadata": {},
   "source": [
    "From the crawler from the blockchain-scraper directory\n",
    "\n",
    "```scrapy crawl shapeshift```"
   ]
  },
  {
   "cell_type": "code",
   "execution_count": 43,
   "metadata": {},
   "outputs": [
    {
     "name": "stdout",
     "output_type": "stream",
     "text": [
      "SS URLs 12540\n",
      "SS URLs retrieved 2664\n",
      "SS responses 2664\n"
     ]
    },
    {
     "name": "stderr",
     "output_type": "stream",
     "text": [
      "/anaconda3/lib/python3.6/site-packages/ipykernel_launcher.py:1: DeprecationWarning: count is deprecated. Use Collection.count_documents instead.\n",
      "  \"\"\"Entry point for launching an IPython kernel.\n",
      "/anaconda3/lib/python3.6/site-packages/ipykernel_launcher.py:2: DeprecationWarning: count is deprecated. Use Collection.count_documents instead.\n",
      "  \n",
      "/anaconda3/lib/python3.6/site-packages/ipykernel_launcher.py:3: DeprecationWarning: count is deprecated. Use Collection.count_documents instead.\n",
      "  This is separate from the ipykernel package so we can avoid doing imports until\n"
     ]
    }
   ],
   "source": [
    "print('SS URLs', ss_db.ss_url.find({}).count())\n",
    "print('SS URLs retrieved', ss_db.ss_url.find({'retrieved': True}).count())\n",
    "print('SS responses', ss_db.ss_resp.find({}).count())"
   ]
  },
  {
   "cell_type": "code",
   "execution_count": 44,
   "metadata": {},
   "outputs": [
    {
     "data": {
      "text/html": [
       "<div>\n",
       "<style scoped>\n",
       "    .dataframe tbody tr th:only-of-type {\n",
       "        vertical-align: middle;\n",
       "    }\n",
       "\n",
       "    .dataframe tbody tr th {\n",
       "        vertical-align: top;\n",
       "    }\n",
       "\n",
       "    .dataframe thead th {\n",
       "        text-align: right;\n",
       "    }\n",
       "</style>\n",
       "<table border=\"1\" class=\"dataframe\">\n",
       "  <thead>\n",
       "    <tr style=\"text-align: right;\">\n",
       "      <th></th>\n",
       "      <th>_id</th>\n",
       "      <th>addr</th>\n",
       "      <th>address</th>\n",
       "      <th>incomingCoin</th>\n",
       "      <th>incomingType</th>\n",
       "      <th>outgoingCoin</th>\n",
       "      <th>outgoingType</th>\n",
       "      <th>retrieved</th>\n",
       "      <th>status</th>\n",
       "      <th>transaction</th>\n",
       "      <th>transactionURL</th>\n",
       "      <th>withdraw</th>\n",
       "    </tr>\n",
       "  </thead>\n",
       "  <tbody>\n",
       "    <tr>\n",
       "      <th>0</th>\n",
       "      <td>5c66e9025a13490cf9559dea</td>\n",
       "      <td>0x7ca5d5c610c32945ef575773f559cb1d6a418185</td>\n",
       "      <td>0x7ca5d5c610c32945ef575773f559cb1d6a418185</td>\n",
       "      <td>8.6</td>\n",
       "      <td>ETH</td>\n",
       "      <td>0.64855376</td>\n",
       "      <td>BTC</td>\n",
       "      <td>2019-02-15 16:29:54.073</td>\n",
       "      <td>complete</td>\n",
       "      <td>d0be39e1c51da397e5f6d9e7f64c99ee1299f9b838400d...</td>\n",
       "      <td>https://blockchain.info/tx/d0be39e1c51da397e5f...</td>\n",
       "      <td>1D9QoGJCsorTLnCzC4dCRDVaX2WaHafLHU</td>\n",
       "    </tr>\n",
       "    <tr>\n",
       "      <th>1</th>\n",
       "      <td>5c66e9025a13490cf9559deb</td>\n",
       "      <td>0xc1b17e9693a78bdb5895f2d98ed8215f147024f7</td>\n",
       "      <td>0xc1b17e9693a78bdb5895f2d98ed8215f147024f7</td>\n",
       "      <td>25.0</td>\n",
       "      <td>ETH</td>\n",
       "      <td>1.73419775</td>\n",
       "      <td>BTC</td>\n",
       "      <td>2019-02-15 16:29:54.077</td>\n",
       "      <td>complete</td>\n",
       "      <td>32723612aabf9739f7bd289d5d9881ad524061079fe792...</td>\n",
       "      <td>https://blockchain.info/tx/32723612aabf9739f7b...</td>\n",
       "      <td>1KE9HQxu2ncURbELGSLP4fCT9B2wxjUnV4</td>\n",
       "    </tr>\n",
       "    <tr>\n",
       "      <th>2</th>\n",
       "      <td>5c66e9085a13490cf9559dec</td>\n",
       "      <td>0x5c707a0ad35e500fed97d938f3195969b2f7b342</td>\n",
       "      <td>0x5c707a0ad35e500fed97d938f3195969b2f7b342</td>\n",
       "      <td>113.0</td>\n",
       "      <td>ETH</td>\n",
       "      <td>4.12547021</td>\n",
       "      <td>BTC</td>\n",
       "      <td>2019-02-15 16:30:00.307</td>\n",
       "      <td>complete</td>\n",
       "      <td>45d02ad9c976f7ce7af27f58f39bb9eaa7f8b19da95a35...</td>\n",
       "      <td>https://blockchain.info/tx/45d02ad9c976f7ce7af...</td>\n",
       "      <td>3MBpUD3nhxJGQ6JzXBMKXvMoF82c7CVh8J</td>\n",
       "    </tr>\n",
       "    <tr>\n",
       "      <th>3</th>\n",
       "      <td>5c66e9095a13490cf9559ded</td>\n",
       "      <td>0x7a258e84d231677f82a9075a720a2d3209f8016b</td>\n",
       "      <td>0x7a258e84d231677f82a9075a720a2d3209f8016b</td>\n",
       "      <td>26.0</td>\n",
       "      <td>ETH</td>\n",
       "      <td>1.76673164</td>\n",
       "      <td>BTC</td>\n",
       "      <td>2019-02-15 16:30:01.169</td>\n",
       "      <td>complete</td>\n",
       "      <td>c6abcee1ec99fe24a04ae939658858dc497c0c8eb73924...</td>\n",
       "      <td>https://blockchain.info/tx/c6abcee1ec99fe24a04...</td>\n",
       "      <td>16SSLMaDqP15GnP3tDCEchqN34hSzAtGqB</td>\n",
       "    </tr>\n",
       "    <tr>\n",
       "      <th>4</th>\n",
       "      <td>5c66e90b5a13490cf9559dee</td>\n",
       "      <td>0xced07f6073ab56e0b8945b5da6447127f7ce1b15</td>\n",
       "      <td>0xced07f6073ab56e0b8945b5da6447127f7ce1b15</td>\n",
       "      <td>31.0</td>\n",
       "      <td>ETH</td>\n",
       "      <td>2.14354658</td>\n",
       "      <td>BTC</td>\n",
       "      <td>2019-02-15 16:30:03.880</td>\n",
       "      <td>complete</td>\n",
       "      <td>3e49f4ef534f6ad9b6930a0899b7febc57dd675f659d52...</td>\n",
       "      <td>https://blockchain.info/tx/3e49f4ef534f6ad9b69...</td>\n",
       "      <td>14T7eV8mj12EtXaURzjbV5JnvZMAZGxjez</td>\n",
       "    </tr>\n",
       "  </tbody>\n",
       "</table>\n",
       "</div>"
      ],
      "text/plain": [
       "                        _id                                        addr  \\\n",
       "0  5c66e9025a13490cf9559dea  0x7ca5d5c610c32945ef575773f559cb1d6a418185   \n",
       "1  5c66e9025a13490cf9559deb  0xc1b17e9693a78bdb5895f2d98ed8215f147024f7   \n",
       "2  5c66e9085a13490cf9559dec  0x5c707a0ad35e500fed97d938f3195969b2f7b342   \n",
       "3  5c66e9095a13490cf9559ded  0x7a258e84d231677f82a9075a720a2d3209f8016b   \n",
       "4  5c66e90b5a13490cf9559dee  0xced07f6073ab56e0b8945b5da6447127f7ce1b15   \n",
       "\n",
       "                                      address  incomingCoin incomingType  \\\n",
       "0  0x7ca5d5c610c32945ef575773f559cb1d6a418185           8.6          ETH   \n",
       "1  0xc1b17e9693a78bdb5895f2d98ed8215f147024f7          25.0          ETH   \n",
       "2  0x5c707a0ad35e500fed97d938f3195969b2f7b342         113.0          ETH   \n",
       "3  0x7a258e84d231677f82a9075a720a2d3209f8016b          26.0          ETH   \n",
       "4  0xced07f6073ab56e0b8945b5da6447127f7ce1b15          31.0          ETH   \n",
       "\n",
       "  outgoingCoin outgoingType               retrieved    status  \\\n",
       "0   0.64855376          BTC 2019-02-15 16:29:54.073  complete   \n",
       "1   1.73419775          BTC 2019-02-15 16:29:54.077  complete   \n",
       "2   4.12547021          BTC 2019-02-15 16:30:00.307  complete   \n",
       "3   1.76673164          BTC 2019-02-15 16:30:01.169  complete   \n",
       "4   2.14354658          BTC 2019-02-15 16:30:03.880  complete   \n",
       "\n",
       "                                         transaction  \\\n",
       "0  d0be39e1c51da397e5f6d9e7f64c99ee1299f9b838400d...   \n",
       "1  32723612aabf9739f7bd289d5d9881ad524061079fe792...   \n",
       "2  45d02ad9c976f7ce7af27f58f39bb9eaa7f8b19da95a35...   \n",
       "3  c6abcee1ec99fe24a04ae939658858dc497c0c8eb73924...   \n",
       "4  3e49f4ef534f6ad9b6930a0899b7febc57dd675f659d52...   \n",
       "\n",
       "                                      transactionURL  \\\n",
       "0  https://blockchain.info/tx/d0be39e1c51da397e5f...   \n",
       "1  https://blockchain.info/tx/32723612aabf9739f7b...   \n",
       "2  https://blockchain.info/tx/45d02ad9c976f7ce7af...   \n",
       "3  https://blockchain.info/tx/c6abcee1ec99fe24a04...   \n",
       "4  https://blockchain.info/tx/3e49f4ef534f6ad9b69...   \n",
       "\n",
       "                             withdraw  \n",
       "0  1D9QoGJCsorTLnCzC4dCRDVaX2WaHafLHU  \n",
       "1  1KE9HQxu2ncURbELGSLP4fCT9B2wxjUnV4  \n",
       "2  3MBpUD3nhxJGQ6JzXBMKXvMoF82c7CVh8J  \n",
       "3  16SSLMaDqP15GnP3tDCEchqN34hSzAtGqB  \n",
       "4  14T7eV8mj12EtXaURzjbV5JnvZMAZGxjez  "
      ]
     },
     "execution_count": 44,
     "metadata": {},
     "output_type": "execute_result"
    }
   ],
   "source": [
    "ss_responses = pd.DataFrame.from_dict(list(ss_db.ss_resp.find({})))\n",
    "ss_responses.head()"
   ]
  },
  {
   "cell_type": "markdown",
   "metadata": {},
   "source": [
    "## Hot wallets and pagination\n",
    "\n",
    "hot wallets have numerous transactions and need to paginated to retrieve all txs\n",
    "\n",
    "Etherscan only returns the 10,000 most-recent transactions. We need full history of Quadriga wallets so scrape the number of transactions from the Etherscan page (bc this is bizarrely not an API call I can identify) and create paginated URLs"
   ]
  },
  {
   "cell_type": "code",
   "execution_count": null,
   "metadata": {
    "collapsed": true
   },
   "outputs": [],
   "source": [
    "add_lookup(quadriga_hot_addrs, 'quadriga_hot_wallet')"
   ]
  },
  {
   "cell_type": "code",
   "execution_count": 17,
   "metadata": {},
   "outputs": [
    {
     "name": "stdout",
     "output_type": "stream",
     "text": [
      "number of transactions 20126 number of pages 3\n"
     ]
    }
   ],
   "source": [
    "qx_hot_1 = quadriga_hot_addrs[0]\n",
    "resp = requests.get('https://etherscan.io/address/%s' % qx_hot_1)\n",
    "soup = BeautifulSoup(resp.content, 'html.parser')\n",
    "link = soup.find('div', {\"id\": \"transactions\"}).find('a')\n",
    "num_tx = 0\n",
    "offset = 10000\n",
    "if link is not None:\n",
    "    num_tx = int(link.text.split(' ')[0].replace(',', ''))\n",
    "\n",
    "pages = round(num_tx / offset) + 1\n",
    "print('number of transactions', num_tx, 'number of pages', pages)\n",
    "for idx in range(1, pages):\n",
    "    add_lookup([qx_hot_1], 'quadriga hotwallet page %s' % idx, idx, offset)"
   ]
  },
  {
   "cell_type": "code",
   "execution_count": 18,
   "metadata": {},
   "outputs": [
    {
     "name": "stdout",
     "output_type": "stream",
     "text": [
      "number of transactions 448260 number of pages 46\n"
     ]
    }
   ],
   "source": [
    "qx_hot_2 = quadriga_hot_addrs[1]\n",
    "resp = requests.get('https://etherscan.io/address/%s' % qx_hot_2)\n",
    "soup = BeautifulSoup(resp.content, 'html.parser')\n",
    "link = soup.find('div', {\"id\": \"transactions\"}).find('a')\n",
    "num_tx = 0\n",
    "offset = 10000\n",
    "if link is not None:\n",
    "    num_tx = int(link.text.split(' ')[0].replace(',', ''))\n",
    "pages = round(num_tx / offset) + 1\n",
    "print('number of transactions', num_tx, 'number of pages', pages)\n",
    "for idx in range(1, pages):\n",
    "    add_lookup([qx_hot_2], 'quadriga hotwallet page %s' % idx, idx, offset)"
   ]
  },
  {
   "cell_type": "markdown",
   "metadata": {},
   "source": [
    "### Looking at Quadriga deposits and withdrawls"
   ]
  },
  {
   "cell_type": "code",
   "execution_count": 63,
   "metadata": {},
   "outputs": [
    {
     "name": "stdout",
     "output_type": "stream",
     "text": [
      "num quadriga withdrawls: 6100\n"
     ]
    }
   ],
   "source": [
    "print('num quadriga withdrawls:', eth_db.etherscan_tx.count_documents({'from': {'$in': quadriga_cold_addrs}}))"
   ]
  },
  {
   "cell_type": "code",
   "execution_count": 64,
   "metadata": {},
   "outputs": [
    {
     "name": "stdout",
     "output_type": "stream",
     "text": [
      "num quadriga deposits: 756\n"
     ]
    }
   ],
   "source": [
    "print('num quadriga deposits:', eth_db.etherscan_tx.count_documents({'to': {'$in': quadriga_cold_addrs}}))"
   ]
  },
  {
   "cell_type": "code",
   "execution_count": 65,
   "metadata": {},
   "outputs": [
    {
     "name": "stdout",
     "output_type": "stream",
     "text": [
      "6850\n",
      "6850\n"
     ]
    },
    {
     "data": {
      "text/html": [
       "<div>\n",
       "<style scoped>\n",
       "    .dataframe tbody tr th:only-of-type {\n",
       "        vertical-align: middle;\n",
       "    }\n",
       "\n",
       "    .dataframe tbody tr th {\n",
       "        vertical-align: top;\n",
       "    }\n",
       "\n",
       "    .dataframe thead th {\n",
       "        text-align: right;\n",
       "    }\n",
       "</style>\n",
       "<table border=\"1\" class=\"dataframe\">\n",
       "  <thead>\n",
       "    <tr style=\"text-align: right;\">\n",
       "      <th></th>\n",
       "      <th>_id</th>\n",
       "      <th>dt</th>\n",
       "      <th>dt_str</th>\n",
       "      <th>eth</th>\n",
       "      <th>from</th>\n",
       "      <th>hash</th>\n",
       "      <th>to</th>\n",
       "      <th>usd</th>\n",
       "    </tr>\n",
       "  </thead>\n",
       "  <tbody>\n",
       "    <tr>\n",
       "      <th>0</th>\n",
       "      <td>5c7d4c175a13494d54d3b906</td>\n",
       "      <td>2018-11-01 15:40:35</td>\n",
       "      <td>110118</td>\n",
       "      <td>140.000000</td>\n",
       "      <td>0xb6aac3b56ff818496b747ea57fcbe42a9aae6218</td>\n",
       "      <td>0x1f583509002deff2e825058caaeda7482565493196ef...</td>\n",
       "      <td>0xc3cae4118fec40ef386e01eb04b7e66dc0e5b643</td>\n",
       "      <td>27822.200000</td>\n",
       "    </tr>\n",
       "    <tr>\n",
       "      <th>1</th>\n",
       "      <td>5c7d4c175a13494d54d3b8f0</td>\n",
       "      <td>2018-11-01 12:29:59</td>\n",
       "      <td>110118</td>\n",
       "      <td>600.000000</td>\n",
       "      <td>0xb6aac3b56ff818496b747ea57fcbe42a9aae6218</td>\n",
       "      <td>0x88ed42d8fbc67cfec54985564968eeb499274d1b3d74...</td>\n",
       "      <td>0xc3cae4118fec40ef386e01eb04b7e66dc0e5b643</td>\n",
       "      <td>119238.000000</td>\n",
       "    </tr>\n",
       "    <tr>\n",
       "      <th>2</th>\n",
       "      <td>5c7d4c175a13494d54d3b8ed</td>\n",
       "      <td>2018-10-31 16:21:25</td>\n",
       "      <td>103118</td>\n",
       "      <td>25.091256</td>\n",
       "      <td>0xeed16856d551569d134530ee3967ec79995e2051</td>\n",
       "      <td>0x2ad042d7c21ed6307ef1be1f1f445c01506e8e381a59...</td>\n",
       "      <td>0xc3cae4118fec40ef386e01eb04b7e66dc0e5b643</td>\n",
       "      <td>4964.305000</td>\n",
       "    </tr>\n",
       "    <tr>\n",
       "      <th>3</th>\n",
       "      <td>5c7d4c175a13494d54d3b8ec</td>\n",
       "      <td>2018-10-31 16:21:08</td>\n",
       "      <td>103118</td>\n",
       "      <td>25.091256</td>\n",
       "      <td>0xd3273eba07248020bf98a8b560ec1576a612102f</td>\n",
       "      <td>0x187c8d93ad2b2d75fcfaed677671f5e2c2f9ee2a961d...</td>\n",
       "      <td>0xc3cae4118fec40ef386e01eb04b7e66dc0e5b643</td>\n",
       "      <td>4964.305000</td>\n",
       "    </tr>\n",
       "    <tr>\n",
       "      <th>4</th>\n",
       "      <td>5c7d4c175a13494d54d3b8ea</td>\n",
       "      <td>2018-10-31 16:14:10</td>\n",
       "      <td>103118</td>\n",
       "      <td>0.498529</td>\n",
       "      <td>0x563b377a956c80d77a7c613a9343699ad6123911</td>\n",
       "      <td>0xed04ccfcbfdad82f5b24553218d8a2c4951ab565aa39...</td>\n",
       "      <td>0xc3cae4118fec40ef386e01eb04b7e66dc0e5b643</td>\n",
       "      <td>98.633931</td>\n",
       "    </tr>\n",
       "  </tbody>\n",
       "</table>\n",
       "</div>"
      ],
      "text/plain": [
       "                        _id                  dt  dt_str         eth  \\\n",
       "0  5c7d4c175a13494d54d3b906 2018-11-01 15:40:35  110118  140.000000   \n",
       "1  5c7d4c175a13494d54d3b8f0 2018-11-01 12:29:59  110118  600.000000   \n",
       "2  5c7d4c175a13494d54d3b8ed 2018-10-31 16:21:25  103118   25.091256   \n",
       "3  5c7d4c175a13494d54d3b8ec 2018-10-31 16:21:08  103118   25.091256   \n",
       "4  5c7d4c175a13494d54d3b8ea 2018-10-31 16:14:10  103118    0.498529   \n",
       "\n",
       "                                         from  \\\n",
       "0  0xb6aac3b56ff818496b747ea57fcbe42a9aae6218   \n",
       "1  0xb6aac3b56ff818496b747ea57fcbe42a9aae6218   \n",
       "2  0xeed16856d551569d134530ee3967ec79995e2051   \n",
       "3  0xd3273eba07248020bf98a8b560ec1576a612102f   \n",
       "4  0x563b377a956c80d77a7c613a9343699ad6123911   \n",
       "\n",
       "                                                hash  \\\n",
       "0  0x1f583509002deff2e825058caaeda7482565493196ef...   \n",
       "1  0x88ed42d8fbc67cfec54985564968eeb499274d1b3d74...   \n",
       "2  0x2ad042d7c21ed6307ef1be1f1f445c01506e8e381a59...   \n",
       "3  0x187c8d93ad2b2d75fcfaed677671f5e2c2f9ee2a961d...   \n",
       "4  0xed04ccfcbfdad82f5b24553218d8a2c4951ab565aa39...   \n",
       "\n",
       "                                           to            usd  \n",
       "0  0xc3cae4118fec40ef386e01eb04b7e66dc0e5b643   27822.200000  \n",
       "1  0xc3cae4118fec40ef386e01eb04b7e66dc0e5b643  119238.000000  \n",
       "2  0xc3cae4118fec40ef386e01eb04b7e66dc0e5b643    4964.305000  \n",
       "3  0xc3cae4118fec40ef386e01eb04b7e66dc0e5b643    4964.305000  \n",
       "4  0xc3cae4118fec40ef386e01eb04b7e66dc0e5b643      98.633931  "
      ]
     },
     "execution_count": 65,
     "metadata": {},
     "output_type": "execute_result"
    }
   ],
   "source": [
    "quad_cold_tx = pd.DataFrame.from_dict(list(eth_db.etherscan_tx.find({\n",
    "    '$or': [{'to': {'$in': quadriga_cold_addrs}}, {'from': {'$in': quadriga_cold_addrs}}],\n",
    "}, {'eth': True, 'dt': True, 'dt_str': True, 'to': True, 'from': True, 'hash': True})))\n",
    "print(len(quad_cold_tx))\n",
    "quad_cold_tx = quad_cold_tx.drop_duplicates(subset=['hash'])\n",
    "print(len(quad_cold_tx))\n",
    "#quad_cold_tx['eth'] = quad_cold_tx.apply(lambda x: 0 if (x['from'] in quadriga_cold_addrs and x['to'] in quadriga_cold_addrs) else x['eth'], axis=1)\n",
    "quad_cold_tx['eth'] = quad_cold_tx.apply(lambda x: -1 * x['eth'] if x['from'] in quadriga_cold_addrs and x['to'] not in quadriga_cold_addrs else x['eth'], axis=1)\n",
    "quad_cold_tx['usd'] = quad_cold_tx.apply(lambda x: float(x['eth']) * eth_conversions_lookup[x['dt_str']], axis=1)\n",
    "quad_cold_tx.head()"
   ]
  },
  {
   "cell_type": "code",
   "execution_count": null,
   "metadata": {
    "collapsed": true
   },
   "outputs": [],
   "source": []
  }
 ],
 "metadata": {
  "kernelspec": {
   "display_name": "Python 3",
   "language": "python",
   "name": "python3"
  },
  "language_info": {
   "codemirror_mode": {
    "name": "ipython",
    "version": 3
   },
   "file_extension": ".py",
   "mimetype": "text/x-python",
   "name": "python",
   "nbconvert_exporter": "python",
   "pygments_lexer": "ipython3",
   "version": "3.6.3"
  }
 },
 "nbformat": 4,
 "nbformat_minor": 2
}
